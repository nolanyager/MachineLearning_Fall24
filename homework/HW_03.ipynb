{
 "cells": [
  {
   "cell_type": "markdown",
   "metadata": {},
   "source": [
    "## Homework 3\n",
    "\n",
    "Due: 10/30/2024 8:30 AM \n",
    "\n",
    "# Nolan Yager\n",
    "\n",
    "Machine Learning Fall 2024"
   ]
  },
  {
   "cell_type": "markdown",
   "metadata": {},
   "source": [
    "# Preparation\n",
    "\n",
    "1. Create a 'code' folder in the root directory of your repository.\n",
    "1. Inside the 'code' folder, create a file '01_clean_data.\\<your_extension_here\\>'.\n",
    "Your extension should be the one you use for your programming language of choice (e.g., '.R' for R, '.py' for Python, '.jl' for Julia).\n",
    "1. Copy any code from HW_02 you need to subset and merge the NRI and SVI datasets into the '01_clean_data' file.\n",
    "1. Add a 'processed' directory to the 'data' folder.\n",
    "1. Add a line at the end of the file that saves the merged dataset to 'data/processed' directory.\n",
    "1. Run the '01_clean_data' file to ensure that the merged dataset runs and creates the proper file.\n",
    "1. Add and commit the '01_clean_data' file to the repository."
   ]
  },
  {
   "cell_type": "code",
   "execution_count": 13,
   "metadata": {},
   "outputs": [
    {
     "name": "stdout",
     "output_type": "stream",
     "text": [
      "c:\\Users\\nyager\\Desktop\\YagerMLCode\\MachineLearning_Fall24\\homework\n"
     ]
    }
   ],
   "source": [
    "# Import Packages: \n",
    "import pandas as pd\n",
    "import numpy as np\n",
    "import matplotlib.pyplot as plt\n",
    "import sklearn as sklearn \n",
    "\n",
    "#Current WD:\n",
    "import os\n",
    "cwd = os.getcwd()\n",
    "print(cwd)"
   ]
  },
  {
   "cell_type": "markdown",
   "metadata": {},
   "source": [
    "# Homework - Principal Component Analysis\n",
    "\n",
    "The CDC Social Vulnerability Index (SVI) takes multiple differen population-level inputs (e.g., % of the population living in poverty, % of the population without health insurance) to identify particularly vulnerable counties.\n",
    "While the CDC SVI scores rely on adding up the percentiles of various characteristics, there are alternative indexes (e.g., [University of South Carolina SoVI index](https://sc.edu/study/colleges_schools/artsandsciences/centers_and_institutes/hvri/data_and_resources/sovi/index.php)) that use methods like PCA.\n",
    "Here, we are going to use the CDC SVI data to create an alternative index based on PCA."
   ]
  },
  {
   "cell_type": "code",
   "execution_count": 5,
   "metadata": {},
   "outputs": [],
   "source": [
    "# Loading merged data\n",
    "merged_data = pd.read_csv(\"data/processed/nri_svi_merged.csv\")"
   ]
  },
  {
   "cell_type": "markdown",
   "metadata": {},
   "source": [
    "1. The following variables are used in the SVI:\n",
    "`EP_POV150, EP_UNEMP, EP_HBURD, EP_NOHSDP, EP_UNINSUR, EP_AGE65, EP_AGE17, EP_DISABL, EP_SNGPNT, EP_LIMENG, EP_MINRTY, EP_MUNIT, EP_MOBILE, EP_CROWD, EP_NOVEH, EP_GROUPQ, EP_NOINT`\n",
    "    a. Subset the merged dataset to only include the variables above and look at the pattern of missing data.\n",
    "    Are missing observations scattered throughout the data or are entire rows or columns missing?\n",
    "    b. PCA cannot handle missing values by default.\n",
    "    There are several options for handling missing data generally, including imputation, removing rows with missing data, or removing columns with missing data.\n",
    "    Deal with the missing data in a way that makes sense for the pattern of missing data and the goals of the analysis. Explain why you made this decision.\n",
    "    _Note: How you handle this is specific to the missing data pattern and the goals of the analysis.\n",
    "    For example, when entire rows or columns are missing, imputation may not be appropriate and dropping those rows or columns is usually the best option.\n",
    "    Conversely, if you have a general missingness pattern where missing observations are scattered throughout the data, imputation is likely the best option._\n",
    "    c. After dealing with the missing data, perform PCA on the SVI variables."
   ]
  },
  {
   "cell_type": "code",
   "execution_count": 9,
   "metadata": {},
   "outputs": [
    {
     "name": "stdout",
     "output_type": "stream",
     "text": [
      "Index(['FIPS', 'AVLN_AFREQ', 'AVLN_RISKR', 'CFLD_AFREQ', 'CFLD_RISKR',\n",
      "       'CWAV_AFREQ', 'CWAV_RISKR', 'DRGT_AFREQ', 'DRGT_RISKR', 'ERQK_AFREQ',\n",
      "       'ERQK_RISKR', 'HAIL_AFREQ', 'HAIL_RISKR', 'HWAV_AFREQ', 'HWAV_RISKR',\n",
      "       'HRCN_AFREQ', 'HRCN_RISKR', 'ISTM_AFREQ', 'ISTM_RISKR', 'LNDS_AFREQ',\n",
      "       'LNDS_RISKR', 'LTNG_AFREQ', 'LTNG_RISKR', 'RFLD_AFREQ', 'RFLD_RISKR',\n",
      "       'SWND_AFREQ', 'SWND_RISKR', 'TRND_AFREQ', 'TRND_RISKR', 'TSUN_AFREQ',\n",
      "       'TSUN_RISKR', 'VLCN_AFREQ', 'VLCN_RISKR', 'WFIR_AFREQ', 'WFIR_RISKR',\n",
      "       'WNTW_AFREQ', 'WNTW_RISKR', 'ST', 'STATE', 'ST_ABBR', 'STCNTY',\n",
      "       'COUNTY', 'LOCATION', 'AREA_SQMI', 'E_TOTPOP', 'EP_POV150', 'EP_UNEMP',\n",
      "       'EP_HBURD', 'EP_NOHSDP', 'EP_UNINSUR', 'EP_AGE65', 'EP_AGE17',\n",
      "       'EP_DISABL', 'EP_SNGPNT', 'EP_LIMENG', 'EP_MINRTY', 'EP_MUNIT',\n",
      "       'EP_MOBILE', 'EP_CROWD', 'EP_NOVEH', 'EP_GROUPQ', 'EP_NOINT', 'EP_AFAM',\n",
      "       'EP_HISP', 'EP_ASIAN', 'EP_AIAN', 'EP_NHPI', 'EP_TWOMORE',\n",
      "       'EP_OTHERRACE'],\n",
      "      dtype='object')\n",
      "Missing data per column:\n",
      " EP_POV150     96\n",
      "EP_UNEMP      96\n",
      "EP_HBURD      96\n",
      "EP_NOHSDP     96\n",
      "EP_UNINSUR    96\n",
      "EP_AGE65      96\n",
      "EP_AGE17      96\n",
      "EP_DISABL     96\n",
      "EP_SNGPNT     96\n",
      "EP_LIMENG     96\n",
      "EP_MINRTY     96\n",
      "EP_MUNIT      96\n",
      "EP_MOBILE     96\n",
      "EP_CROWD      96\n",
      "EP_NOVEH      96\n",
      "EP_GROUPQ     96\n",
      "EP_NOINT      96\n",
      "dtype: int64\n"
     ]
    }
   ],
   "source": [
    "# Subsetting merged dataset by identifying columns of interest\n",
    "\n",
    "# Define the columns \n",
    "svi_columns = [\n",
    "    'EP_POV150', 'EP_UNEMP', 'EP_HBURD', 'EP_NOHSDP', 'EP_UNINSUR', \n",
    "    'EP_AGE65', 'EP_AGE17', 'EP_DISABL', 'EP_SNGPNT', 'EP_LIMENG', \n",
    "    'EP_MINRTY', 'EP_MUNIT', 'EP_MOBILE', 'EP_CROWD', 'EP_NOVEH', \n",
    "    'EP_GROUPQ', 'EP_NOINT'\n",
    "]\n",
    "\n",
    "# Subset the merged_data to include columns of interest\n",
    "subset_merged_data = merged_data[svi_columns]\n",
    "\n",
    "# Displaying missing data \n",
    "missing_counts = subset_merged_data.isnull().sum()\n",
    "print(\"Missing data per column:\\n\", missing_counts)\n",
    "\n"
   ]
  },
  {
   "cell_type": "markdown",
   "metadata": {},
   "source": [
    "d. PCA cannot handle missing values by default.\n",
    "    There are several options for handling missing data generally, including imputation, removing rows with missing data, or removing columns with missing data.\n",
    "    Deal with the missing data in a way that makes sense for the pattern of missing data and the goals of the analysis. Explain why you made this decision.\n",
    "    _Note: How you handle this is specific to the missing data pattern and the goals of the analysis.\n",
    "    For example, when entire rows or columns are missing, imputation may not be appropriate and dropping those rows or columns is usually the best option.\n",
    "    Conversely, if you have a general missingness pattern where missing observations are scattered throughout the data, imputation is likely the best option._\n",
    "   "
   ]
  },
  {
   "cell_type": "markdown",
   "metadata": {},
   "source": [
    "MY STRATEGY: \n",
    "Note that I will be using imputation. As we can see above, we have about 96 values missing from quite a few different columns, so if we dropped all those columns we'd lose way more data than we need to. I suspect that what happened was perhaps an error when merging the data. But since this homework is about imputing data, I'm not going to go back and fix it, I'll impute here. "
   ]
  },
  {
   "cell_type": "code",
   "execution_count": 15,
   "metadata": {},
   "outputs": [
    {
     "name": "stdout",
     "output_type": "stream",
     "text": [
      "EP_POV150     0\n",
      "EP_UNEMP      0\n",
      "EP_HBURD      0\n",
      "EP_NOHSDP     0\n",
      "EP_UNINSUR    0\n",
      "EP_AGE65      0\n",
      "EP_AGE17      0\n",
      "EP_DISABL     0\n",
      "EP_SNGPNT     0\n",
      "EP_LIMENG     0\n",
      "EP_MINRTY     0\n",
      "EP_MUNIT      0\n",
      "EP_MOBILE     0\n",
      "EP_CROWD      0\n",
      "EP_NOVEH      0\n",
      "EP_GROUPQ     0\n",
      "EP_NOINT      0\n",
      "dtype: int64\n"
     ]
    }
   ],
   "source": [
    "# Using SciKit-Learn imputer\n",
    "from sklearn.impute import SimpleImputer\n",
    "\n",
    "# Creating an imputer, we will call it imputer and just use the mean for our strategy \n",
    "imputer = SimpleImputer(strategy='mean')\n",
    "\n",
    "# Fit and transform the subset data\n",
    "subset_data_imputed = pd.DataFrame(imputer.fit_transform(subset_merged_data), columns=subset_merged_data.columns)\n",
    "\n",
    "# Check to confirm missing values are addressed\n",
    "print(subset_data_imputed.isnull().sum())\n"
   ]
  },
  {
   "cell_type": "markdown",
   "metadata": {},
   "source": [
    "f. After dealing with the missing data, perform PCA on the SVI variables."
   ]
  },
  {
   "cell_type": "code",
   "execution_count": 18,
   "metadata": {},
   "outputs": [
    {
     "name": "stdout",
     "output_type": "stream",
     "text": [
      "Explained variance by each component:\n",
      " [0.28225876 0.19170644 0.1082785  0.06803159 0.05928892 0.05720244\n",
      " 0.0364465  0.03425511 0.02952363 0.02625225 0.02459307 0.02137741\n",
      " 0.0170073  0.01445149 0.01161105 0.0093596  0.00835596]\n"
     ]
    }
   ],
   "source": [
    "from sklearn.preprocessing import StandardScaler\n",
    "from sklearn.decomposition import PCA\n",
    "\n",
    "# 1. Standardizing the data\n",
    "scaler = StandardScaler()\n",
    "data_scaled = scaler.fit_transform(subset_data_imputed)  \n",
    "\n",
    "# 2. It's PCA time\n",
    "pca = PCA()  \n",
    "svi_pca = pca.fit_transform(data_scaled)\n",
    "\n",
    "# Converting result back to a dataframe \n",
    "pca_df = pd.DataFrame(svi_pca, columns=[f'PC{i+1}' for i in range(svi_pca.shape[1])])\n",
    "\n",
    "# 3. Examine explained variance\n",
    "explained_variance = pca.explained_variance_ratio_\n",
    "print(\"Explained variance by each component:\\n\", explained_variance)"
   ]
  },
  {
   "cell_type": "markdown",
   "metadata": {},
   "source": [
    "2. Plot the eigenvectors or loadings associated of the first three principal components.\n",
    "Make sure that the axis labels correspond to the variable names and not the indices of the variables.\n",
    "How would you interpret the first three prinicpal components?\n",
    "_Note: you can find the documentation for the SVI variables [here](https://www.atsdr.cdc.gov/placeandhealth/svi/documentation/SVI_documentation_2022.html)._"
   ]
  },
  {
   "cell_type": "code",
   "execution_count": 20,
   "metadata": {},
   "outputs": [
    {
     "data": {
      "image/png": "[encoded data removed]",
      "text/plain": [
       "<Figure size 1000x600 with 1 Axes>"
      ]
     },
     "metadata": {},
     "output_type": "display_data"
    }
   ],
   "source": [
    "# Extracting the loadings for first three principal components\n",
    "loadings = pca.components_[:3]  # First three principal components\n",
    "variables = subset_data_imputed.columns  # Original variable names\n",
    "\n",
    "# Step 2: Plot the loadings\n",
    "plt.figure(figsize=(10, 6))\n",
    "for i, pc in enumerate(loadings):\n",
    "    plt.bar(variables, pc, alpha=0.7, label=f'PC{i+1}')\n",
    "plt.xticks(rotation=90)\n",
    "plt.xlabel('SVI Variables')\n",
    "plt.ylabel('Loadings')\n",
    "plt.title('Loadings of the First Three Principal Components')\n",
    "plt.legend()\n",
    "plt.tight_layout()\n",
    "plt.show()\n"
   ]
  },
  {
   "cell_type": "markdown",
   "metadata": {},
   "source": [
    "3. There are several different ways to determine the number of principal components to retain.\n",
    "One common method is to retain principal components that explain a certain percentage of the variance in the data.\n",
    "    a. How many principal components are needed to explain 80% of the variance in the data?\n",
    "    a. How many principal components are needed to explain 90% of the variance in the data?"
   ]
  },
  {
   "cell_type": "code",
   "execution_count": 22,
   "metadata": {},
   "outputs": [
    {
     "name": "stdout",
     "output_type": "stream",
     "text": [
      "Number of components needed to explain 80% of variance: 7\n",
      "Number of components needed to explain 90% of variance: 11\n"
     ]
    }
   ],
   "source": [
    "# Calculate cumulative explained variance\n",
    "cumulative_variance = np.cumsum(pca.explained_variance_ratio_)\n",
    "\n",
    "# Find the number of components needed for 80% and 90% of variance, respectively: \n",
    "components_80_pct = np.argmax(cumulative_variance >= 0.80) + 1\n",
    "components_90_pct = np.argmax(cumulative_variance >= 0.90) + 1\n",
    "\n",
    "# Printing answer:\n",
    "print(f\"Number of components needed to explain 80% of variance: {components_80_pct}\")\n",
    "print(f\"Number of components needed to explain 90% of variance: {components_90_pct}\")\n"
   ]
  },
  {
   "cell_type": "markdown",
   "metadata": {},
   "source": [
    "4. An alternative approach is to plot the eigenvalues of the principal components and retain the components that are above the \"elbow\" in the plot. In other words the eigenvalues that are substantially larger than the rest.\n",
    "    a. Create a [scree plot](https://en.wikipedia.org/wiki/Scree_plot) of the eigenvalues of the principal components.\n",
    "    a. How many principal components should be retained based on the scree plot? This video may help: [PCA Scree Plot](https://youtu.be/vFUvNICWVz4?si=6NbyRcLRGT8L1HzI)"
   ]
  },
  {
   "cell_type": "markdown",
   "metadata": {},
   "source": [
    "5. Cross-validation is another method to determine the number of principal components to retain.\n",
    "This process requires some linear algebra that is beyond the scope of this course.\n",
    "As such, I have written example [code](https://github.com/gabehassler/PRGS-Intro-to-ML-2024/blob/main/examples/pca_cross_validation.jl) in Julia that demonstrates how to perform cross-validation.\n",
    "This procedure is a simplified versionof an approach explained in this [blog post](https://alexhwilliams.info/itsneuronalblog/2018/02/26/crossval/).\n",
    "For the purposes of this assignment, the `pca_cv_error` function is a black box that returns the cross-validation error for a given number of principal components.\n",
    "_Note: If you use a different programming language, you can use ChatGPT to translate the code to your language of choice._\n",
    "    a. Compute the cross-validation error for 1 to 17 principal components. If this process is parallelizable, parallelize the code. If setting a random number seed would make this work more reproducible, set a random number seed."
   ]
  }
 ],
 "metadata": {
  "kernelspec": {
   "display_name": "Python 3",
   "language": "python",
   "name": "python3"
  },
  "language_info": {
   "codemirror_mode": {
    "name": "ipython",
    "version": 3
   },
   "file_extension": ".py",
   "mimetype": "text/x-python",
   "name": "python",
   "nbconvert_exporter": "python",
   "pygments_lexer": "ipython3",
   "version": "3.11.9"
  }
 },
 "nbformat": 4,
 "nbformat_minor": 2
}
