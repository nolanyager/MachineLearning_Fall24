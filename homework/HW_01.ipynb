{
 "cells": [
  {
   "cell_type": "markdown",
   "metadata": {},
   "source": [
    "Homework 1\n",
    "Nolan Yager\n",
    "\n",
    "Question 1: \n",
    "Use a programming language of your choice to save today's date to a variable.\n",
    "Then, include the date in the text below the code block."
   ]
  },
  {
   "cell_type": "code",
   "execution_count": 1,
   "metadata": {},
   "outputs": [
    {
     "name": "stdout",
     "output_type": "stream",
     "text": [
      "2024-10-14\n"
     ]
    }
   ],
   "source": [
    "# I'm gonna use the datetime module from python. \n",
    "# I don't need to specify the \"from\" but it's good practice once I start using pandas I guess. \n",
    "from datetime import datetime\n",
    "\n",
    "# Now, I'm going to save today's date as a variable, Y: \n",
    "Y = datetime.today().date()\n",
    "\n",
    "# Ok sounds good, now let's print it:\n",
    "print(Y)"
   ]
  },
  {
   "cell_type": "markdown",
   "metadata": {},
   "source": [
    "Ok it worked. "
   ]
  },
  {
   "cell_type": "code",
   "execution_count": 2,
   "metadata": {},
   "outputs": [
    {
     "name": "stdout",
     "output_type": "stream",
     "text": [
      "Today's date is 2024-10-14\n",
      "c:\\Users\\nyager\\Desktop\\YagerMLCode\\MachineLearning_Fall24\\homework\\Homework01\n"
     ]
    }
   ],
   "source": [
    "# Now let's print it in a sentence format: \n",
    "print(f\"Today's date is {Y}\")\n",
    "\n",
    "#Current WD:\n",
    "import os\n",
    "cwd = os.getcwd()\n",
    "print(cwd)"
   ]
  }
 ],
 "metadata": {
  "kernelspec": {
   "display_name": "Python 3",
   "language": "python",
   "name": "python3"
  },
  "language_info": {
   "codemirror_mode": {
    "name": "ipython",
    "version": 3
   },
   "file_extension": ".py",
   "mimetype": "text/x-python",
   "name": "python",
   "nbconvert_exporter": "python",
   "pygments_lexer": "ipython3",
   "version": "3.11.9"
  }
 },
 "nbformat": 4,
 "nbformat_minor": 2
}
