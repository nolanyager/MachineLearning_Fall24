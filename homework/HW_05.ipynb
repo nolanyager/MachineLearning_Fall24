{
 "cells": [
  {
   "cell_type": "markdown",
   "metadata": {},
   "source": [
    "# Homework 5 - Neural Newtorks\n",
    "\n",
    "__Due Date:__ 2024-11-20 at 8:30 AM PT\n",
    "\n",
    "__Name:__ Nolan Yager\n"
   ]
  },
  {
   "cell_type": "code",
   "execution_count": null,
   "metadata": {},
   "outputs": [
    {
     "name": "stdout",
     "output_type": "stream",
     "text": [
      "c:\\Users\\nyager\\Desktop\\YagerMLCode\\MachineLearning_Fall24\\homework\n"
     ]
    }
   ],
   "source": [
    "# Pre-prep\n",
    "\n",
    "# Import Packages: \n",
    "import pandas as pd\n",
    "import numpy as np\n",
    "\n",
    "# Current WD:\n",
    "import os\n",
    "cwd = os.getcwd()\n",
    "print(cwd)"
   ]
  },
  {
   "cell_type": "markdown",
   "metadata": {},
   "source": [
    "Preparation:\n",
    "We're using the same [data file](https://github.com/gabehassler/PRGS-Intro-to-ML-2024/blob/main/data/processed/svi_covid.csv) from GitHub as the last assignment in the _data/processed_ folder."
   ]
  },
  {
   "cell_type": "code",
   "execution_count": 5,
   "metadata": {},
   "outputs": [
    {
     "name": "stdout",
     "output_type": "stream",
     "text": [
      "   Unnamed: 0  fips_code  total_cases_per_100k  total_deaths_per_100k  \\\n",
      "0           1       1001          33888.123075             399.925120   \n",
      "1           2       1003          30212.064090             313.169394   \n",
      "2           3       1005          30477.951521             418.056840   \n",
      "3           4       1007          36623.073120             498.853984   \n",
      "4           5       1009          31944.750072             441.796300   \n",
      "\n",
      "   E_TOTPOP  EP_POV150  EP_UNEMP  EP_HBURD  EP_NOHSDP  EP_UNINSUR  ...  \\\n",
      "0     58761       20.2       2.8      19.7        9.6         7.4  ...   \n",
      "1    233420       18.3       3.4      23.2        8.4         9.3  ...   \n",
      "2     24877       37.7       5.8      25.1       23.5        10.7  ...   \n",
      "3     22251       29.0       8.7      23.2       21.1         8.4  ...   \n",
      "4     59077       22.9       6.0      19.4       18.2        10.2  ...   \n",
      "\n",
      "   EP_DISABL  EP_SNGPNT  EP_LIMENG  EP_MINRTY  EP_MUNIT  EP_MOBILE  EP_CROWD  \\\n",
      "0       16.4        5.6        0.4       27.4       3.9       15.6       1.4   \n",
      "1       13.9        4.2        0.8       17.7      16.6       10.2       1.9   \n",
      "2       18.1       11.3        2.0       55.4       1.4       29.2       3.8   \n",
      "3       19.6        7.2        0.3       25.8       2.7       30.6       1.3   \n",
      "4       17.0        5.3        2.2       14.3       0.9       23.9       2.3   \n",
      "\n",
      "   EP_NOVEH  EP_GROUPQ  EP_NOINT  \n",
      "0       4.0        0.9      10.9  \n",
      "1       2.3        1.5      10.9  \n",
      "2      11.7       12.0      31.8  \n",
      "3       7.5        6.4      20.2  \n",
      "4       4.8        1.0      16.9  \n",
      "\n",
      "[5 rows x 22 columns]\n"
     ]
    }
   ],
   "source": [
    "# Loading data\n",
    "covid_data = pd.read_csv(\"data/processed/svi_covid.csv\")\n",
    "\n",
    "print(covid_data.head(5))"
   ]
  },
  {
   "cell_type": "markdown",
   "metadata": {},
   "source": [
    "1. Use a simple neural network to predict the number of per-capita COVID-19 deaths in each county in the US using the SVI variables.\n",
    "The outcome variable is `total_deaths_per_100k` and the predictor variables are `EP_POV150, EP_UNEMP, EP_HBURD, EP_NOHSDP, EP_UNINSUR, EP_AGE65, EP_AGE17, EP_DISABL, EP_SNGPNT, EP_LIMENG, EP_MINRTY, EP_MUNIT, EP_MOBILE, EP_CROWD, EP_NOVEH, EP_GROUPQ, EP_NOINT`.\n",
    "The neural network should have one hidden layer with 10 nodes and use the ReLU activation function.\n",
    "Plot the predicted values against the true values.\n",
    "What is the mean squared error of the predictions in the test set?"
   ]
  },
  {
   "cell_type": "code",
   "execution_count": null,
   "metadata": {},
   "outputs": [],
   "source": []
  },
  {
   "cell_type": "markdown",
   "metadata": {},
   "source": [
    "2. Repeat the analysis from the previous question, but this time use a more complicated neural network with more hidden layers and/or more nodes in the hidden layers.\n",
    "You should experiment with different architectures and activation functions to see what works best.\n",
    "Plot the predicted values against the true values.\n",
    "What is the mean squared error of the predictions in the test set?"
   ]
  },
  {
   "cell_type": "code",
   "execution_count": null,
   "metadata": {},
   "outputs": [],
   "source": []
  },
  {
   "cell_type": "markdown",
   "metadata": {},
   "source": [
    "3. Compare the predictions of the neural network in Question 2 to the predictions of the regression tree from the previous assignment. Which model would you use to predict the number of per-capita COVID-19 deaths? Why?\n",
    "Which model would you use to understand the relationship between the SVI variables and the number of per-capita COVID-19 deaths? Why?"
   ]
  },
  {
   "cell_type": "code",
   "execution_count": null,
   "metadata": {},
   "outputs": [],
   "source": []
  }
 ],
 "metadata": {
  "kernelspec": {
   "display_name": "Python 3",
   "language": "python",
   "name": "python3"
  },
  "language_info": {
   "codemirror_mode": {
    "name": "ipython",
    "version": 3
   },
   "file_extension": ".py",
   "mimetype": "text/x-python",
   "name": "python",
   "nbconvert_exporter": "python",
   "pygments_lexer": "ipython3",
   "version": "3.11.9"
  }
 },
 "nbformat": 4,
 "nbformat_minor": 2
}
