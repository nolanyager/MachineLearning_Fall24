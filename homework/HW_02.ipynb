{
 "cells": [
  {
   "cell_type": "markdown",
   "metadata": {},
   "source": [
    "## Homework 2\n",
    "\n",
    "Due: 2022-10-16 at 8:30 AM PT\n",
    "\n",
    "# Name: Nolan Yager"
   ]
  },
  {
   "cell_type": "markdown",
   "metadata": {},
   "source": [
    "For this assignment, you will practice downloadings, cleaning, and analyzing data from the [National Risk Index (NRI)](https://hazards.fema.gov/nri/) and the [CDC Social Vulnerability Index (SVI)](https://www.atsdr.cdc.gov/placeandhealth/svi/index.html).\n",
    "\n",
    "# Preparation\n",
    "\n",
    "1. Create a 'data' folder in the root directory of this repository.\n",
    "1. Inside the 'data' folder, create a 'raw' folder.\n",
    "1. Add and commit a '.gitignore' file to the root directory of this repository that excludes all contents of the 'data' folder.\n",
    "1. Download the county-level NRI and SVI data for the entire United States. Place the data in the 'data/raw' folder.\n",
    "1. In the repository README, provide a brief (1-2 sentence) description of each file in the 'data' folder and a link to the original source of the data.\n",
    "\n",
    "Task 1 - NRI Data Cleaning\n",
    "\n",
    "1. Import the NRI data. Ensure that the [FIPS code](https://en.wikipedia.org/wiki/Federal_Information_Processing_Standard_state_code) variable ('STCOFIPS') is correctly identified as a string / character variable. Otherwise, the leading zeros will be removed.\n"
   ]
  },
  {
   "cell_type": "code",
   "execution_count": 14,
   "metadata": {},
   "outputs": [
    {
     "name": "stdout",
     "output_type": "stream",
     "text": [
      "c:\\Users\\nyager\\Desktop\\YagerMLCode\\MachineLearning_Fall24\\homework\n"
     ]
    }
   ],
   "source": [
    "# Import Packages Test: \n",
    "import pandas as pd\n",
    "import numpy as np\n",
    "\n",
    "#Current WD:\n",
    "import os\n",
    "cwd = os.getcwd()\n",
    "print(cwd)\n",
    "\n",
    "\n"
   ]
  },
  {
   "cell_type": "code",
   "execution_count": 33,
   "metadata": {},
   "outputs": [
    {
     "name": "stdout",
     "output_type": "stream",
     "text": [
      "OID_                int64\n",
      "NRI_ID             object\n",
      "STATE              object\n",
      "STATEABBRV         object\n",
      "STATEFIPS           int64\n",
      "                   ...   \n",
      "WNTW_ALR_NPCTL    float64\n",
      "WNTW_RISKV        float64\n",
      "WNTW_RISKS        float64\n",
      "WNTW_RISKR         object\n",
      "NRI_VER            object\n",
      "Length: 465, dtype: object\n",
      "yes Nolan, it's a string\n"
     ]
    }
   ],
   "source": [
    "# Loading NRI data and specifying STCOFIPS as a string column\n",
    "nri_data = pd.read_csv(\"data/raw/NRI_Data_By_County.csv\", dtype={'STCOFIPS': str})\n",
    "\n",
    "# Here, we check if the State-County FIPS code (STCOFIPS) was loaded correctly\n",
    "print(nri_data.dtypes)  # Verify if 'STCOFIPS' is treated as an object (string)\n",
    "second_value = nri_data['STCOFIPS'].iloc[1]\n",
    "if isinstance(second_value, str):\n",
    "    print(\"yes Nolan, it's a string\")\n",
    "else:\n",
    "    print(\"no Nolan, it isn't a string\")\n",
    "    \n"
   ]
  },
  {
   "cell_type": "markdown",
   "metadata": {},
   "source": [
    "\n",
    "2. Subset the NRI data to include only the 5-digit state/county FIPS code and all colums ending with '\\_AFREQ' and '\\_RISKR'. Each of these columns represents a different hazard type.\n"
   ]
  },
  {
   "cell_type": "code",
   "execution_count": 36,
   "metadata": {},
   "outputs": [
    {
     "name": "stdout",
     "output_type": "stream",
     "text": [
      "  STCOFIPS\n",
      "0    01001\n",
      "1    01003\n",
      "2    01005\n",
      "3    01007\n"
     ]
    }
   ],
   "source": [
    "# Subsetting: \n",
    "columns_to_keep = ['STCOFIPS'] + [col for col in nri_data.columns if col.endswith('\\_AFREQ') or col.endswith('\\_RISKR')]\n",
    "nri_subsetted = nri_data[columns_to_keep]\n",
    "\n",
    "# Looking at first 4 rows to check: \n",
    "print(nri_subsetted.head(4))\n"
   ]
  },
  {
   "cell_type": "markdown",
   "metadata": {},
   "source": [
    "\n",
    "3. Create a table / dataframe that, for each hazard type, shows the number of missing values in the '\\_AFREQ' and '\\_RISKR' columns.\n"
   ]
  },
  {
   "cell_type": "code",
   "execution_count": 41,
   "metadata": {},
   "outputs": [
    {
     "name": "stdout",
     "output_type": "stream",
     "text": [
      "Empty DataFrame\n",
      "Columns: [Hazard_Type, Missing_Values]\n",
      "Index: []\n"
     ]
    }
   ],
   "source": [
    "# Creating a dataframe:  \n",
    "afreq_riskr_columns = [col for col in nri_subsetted.columns if col.endswith('\\_AFREQ') or col.endswith('_RISKR')]\n",
    "missing_values = nri_subsetted[afreq_riskr_columns].isna().sum()\n",
    "\n",
    "# Table: \n",
    "summary_table_missing = pd.DataFrame({\n",
    "    'Hazard_Type': missing_values.index, \n",
    "    'Missing_Values': missing_values.values\n",
    "})\n",
    "\n",
    "# Print Table: \n",
    "print(summary_table_missing)\n"
   ]
  },
  {
   "cell_type": "markdown",
   "metadata": {},
   "source": [
    "4. Create a new column in the original data table indicating whether or not 'AVLN_AFREQ' is missing or observed. Show the cross-tabulation of the 'AVLN_AFREQ' missingness and 'AVLN_RISKR' columns (including missing values). What do you observe?"
   ]
  },
  {
   "cell_type": "code",
   "execution_count": 18,
   "metadata": {},
   "outputs": [],
   "source": [
    "# code here"
   ]
  },
  {
   "cell_type": "markdown",
   "metadata": {},
   "source": [
    "5. Assuming that a risk that is \"not applicable\" to a county has an annualized frequency of 0, impute the relevant missing values in the '\\_AFREQ' columns with 0."
   ]
  },
  {
   "cell_type": "code",
   "execution_count": 19,
   "metadata": {},
   "outputs": [],
   "source": [
    "# code here"
   ]
  },
  {
   "cell_type": "markdown",
   "metadata": {},
   "source": [
    "Task 2 - SVI Data Cleaning\n",
    "\n",
    "1. Import the SVI data. Ensure that the FIPS code is correctly identified as a string / character variable. Otherwise, the leading zeros will be removed.\n",
    "1. Subset the SVI data to include only the following columns:\n",
    "`ST, STATE, ST_ABBR, STCNTY, COUNTY, FIPS, LOCATION, AREA_SQMI, E_TOTPOP, EP_POV150, EP_UNEMP, EP_HBURD, EP_NOHSDP, EP_UNINSUR, EP_AGE65, EP_AGE17, EP_DISABL, EP_SNGPNT, EP_LIMENG, EP_MINRTY, EP_MUNIT, EP_MOBILE, EP_CROWD, EP_NOVEH, EP_GROUPQ, EP_NOINT, EP_AFAM, EP_HISP, EP_ASIAN, EP_AIAN, EP_NHPI, EP_TWOMORE, EP_OTHERRACE`"
   ]
  },
  {
   "cell_type": "code",
   "execution_count": 20,
   "metadata": {},
   "outputs": [],
   "source": [
    "# code here"
   ]
  },
  {
   "cell_type": "markdown",
   "metadata": {},
   "source": [
    "2. Create a table / dataframe that shows the number of missing values in each column.\n",
    "(Hint: if you wrote a function for Task 1, you can reuse it here.)"
   ]
  },
  {
   "cell_type": "code",
   "execution_count": 21,
   "metadata": {},
   "outputs": [],
   "source": [
    "#code"
   ]
  },
  {
   "cell_type": "markdown",
   "metadata": {},
   "source": [
    "Task 3 - Data Merging\n",
    "1. Identify any FIPS codes that are present in the NRI data but not in the SVI data and vice versa. Describe any discrepancies and possible causes? What to these discrepancies, if any, mean for interpreting results based on the merged dataset moving forward?"
   ]
  },
  {
   "cell_type": "code",
   "execution_count": 22,
   "metadata": {},
   "outputs": [],
   "source": [
    "#code"
   ]
  },
  {
   "cell_type": "markdown",
   "metadata": {},
   "source": [
    "2. Merge the NRI and SVI data on the FIPS code. Use an outer join to keep all counties in the final dataset."
   ]
  },
  {
   "cell_type": "code",
   "execution_count": 23,
   "metadata": {},
   "outputs": [],
   "source": [
    "#code"
   ]
  },
  {
   "cell_type": "markdown",
   "metadata": {},
   "source": [
    "3. Create a table / dataframe that shows the number of missing values in each column of the merged dataset."
   ]
  },
  {
   "cell_type": "code",
   "execution_count": 24,
   "metadata": {},
   "outputs": [],
   "source": [
    "#code"
   ]
  },
  {
   "cell_type": "markdown",
   "metadata": {},
   "source": [
    "Task 4 - Data Analysis\n",
    "\n",
    "1. For each numerical variable in the merged dataset, plot a histogram showing the distribution of values.\n",
    "(Hint: write a function to make the histogram for a single variable, then use a loop or apply function to make the histograms for all numerical variables.)"
   ]
  },
  {
   "cell_type": "code",
   "execution_count": 25,
   "metadata": {},
   "outputs": [],
   "source": [
    "#code"
   ]
  },
  {
   "cell_type": "markdown",
   "metadata": {},
   "source": [
    "END OF HOMEWORK 2. "
   ]
  }
 ],
 "metadata": {
  "kernelspec": {
   "display_name": "Python 3",
   "language": "python",
   "name": "python3"
  },
  "language_info": {
   "codemirror_mode": {
    "name": "ipython",
    "version": 3
   },
   "file_extension": ".py",
   "mimetype": "text/x-python",
   "name": "python",
   "nbconvert_exporter": "python",
   "pygments_lexer": "ipython3",
   "version": "3.11.9"
  }
 },
 "nbformat": 4,
 "nbformat_minor": 2
}
