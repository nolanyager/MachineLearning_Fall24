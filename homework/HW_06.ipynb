{
 "cells": [
  {
   "cell_type": "markdown",
   "metadata": {},
   "source": [
    "# Homework 6\n",
    "\n",
    "Nolan Yager\n",
    "\n",
    "Due 11/27/2024\n",
    "\n",
    "Run your previous homework (HW_05) on the Jules ACS server."
   ]
  },
  {
   "cell_type": "markdown",
   "metadata": {},
   "source": [
    "Do you observe any change in computation speed?\n",
    "ANSWER: Yes, computation speed is significantly faster. Running my more complex neural network in my HW05 code for 10,000 epochs took 7.1 seconds on Jules. Whereas, on my own computer, running the more complex model for 10,000 epochs took 22.6 seconds. "
   ]
  },
  {
   "cell_type": "markdown",
   "metadata": {},
   "source": [
    "Explain why you think the computation speed is faster/slower/the same as before?\n",
    "ANSWER: It's significantly faster. As I understand it, GPUs are much better at handling thousands of tasks at the same time. I think what's going on behind the scenes in a neural network is a whole lot of simultaneous matrix manipulation, which the GPU would therefore excel at. "
   ]
  },
  {
   "cell_type": "markdown",
   "metadata": {},
   "source": [
    "jupyter nbconvert --to html HW_06.ipynb\n"
   ]
  }
 ],
 "metadata": {
  "language_info": {
   "name": "python"
  }
 },
 "nbformat": 4,
 "nbformat_minor": 2
}
