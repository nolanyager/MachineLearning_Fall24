{
 "cells": [
  {
   "cell_type": "markdown",
   "metadata": {},
   "source": [
    "Replication of Civil Wars Analyses for Yager Working Paper:\n",
    "The Psychological Effects of Ethnic Targeting on Civil War"
   ]
  },
  {
   "cell_type": "code",
   "execution_count": 16,
   "metadata": {},
   "outputs": [],
   "source": [
    "# Loading packages\n",
    "import pandas as pd\n",
    "import numpy as np\n",
    "import matplotlib.pyplot as plt\n",
    "import sklearn as sklearn\n",
    "import os \n",
    "import statsmodels.api as sm\n",
    "import statsmodels.formula.api as smf\n"
   ]
  },
  {
   "cell_type": "markdown",
   "metadata": {},
   "source": [
    "Setting working directory: "
   ]
  },
  {
   "cell_type": "code",
   "execution_count": 17,
   "metadata": {},
   "outputs": [
    {
     "name": "stdout",
     "output_type": "stream",
     "text": [
      "Current Working Directory: c:\\Users\\nyager\\Desktop\\YagerMLCode\\MachineLearning_Fall24\\CivilWars_Analyses\n"
     ]
    }
   ],
   "source": [
    "# Set WD\n",
    "working_directory = \"C:\\\\Users\\\\nyager\\\\Desktop\\\\YagerMLCode\\\\MachineLearning_Fall24\\\\CivilWars_Analyses\"\n",
    "os.chdir(working_directory)\n",
    "\n",
    "# Confirm the change\n",
    "print(\"Current Working Directory:\", os.getcwd())"
   ]
  },
  {
   "cell_type": "markdown",
   "metadata": {},
   "source": [
    "Load data: "
   ]
  },
  {
   "cell_type": "code",
   "execution_count": 18,
   "metadata": {},
   "outputs": [
    {
     "name": "stdout",
     "output_type": "stream",
     "text": [
      "   gwgroupid  year  countries_gwid onset_id    countryname  territorial_c  \\\n",
      "0     201000  2009               2      NaN  United States            NaN   \n",
      "1     201000  2010               2      NaN  United States            NaN   \n",
      "2     201000  2011               2      NaN  United States            NaN   \n",
      "3     201000  2012               2      NaN  United States            NaN   \n",
      "4     201000  2013               2      NaN  United States            NaN   \n",
      "\n",
      "   intensity_level  active_dyads  active_dyads_change  ongoing_any  ...  \\\n",
      "0                0             0                  0.0            0  ...   \n",
      "1                0             0                  0.0            0  ...   \n",
      "2                0             0                  0.0            0  ...   \n",
      "3                0             0                  0.0            0  ...   \n",
      "4                0             0                  0.0            0  ...   \n",
      "\n",
      "   l_yrs_excl  l_yrs_disc  pys_low2  pys_low3  wys_low2  wys_low3  wys_high2  \\\n",
      "0         0.0         0.0      3969    250047         0         0          0   \n",
      "1         0.0         0.0      4096    262144         0         0          0   \n",
      "2         0.0         0.0      4225    274625         0         0          0   \n",
      "3         0.0         0.0      4356    287496         0         0          0   \n",
      "4         0.0         0.0      4489    300763         0         0          0   \n",
      "\n",
      "   wys_high3  Target_Gov_l1pr  Target_Gov_l1unpr  \n",
      "0          0              0.0                0.0  \n",
      "1          0              0.0                0.0  \n",
      "2          0              0.0                0.0  \n",
      "3          0              0.0                0.0  \n",
      "4          0              0.0                0.0  \n",
      "\n",
      "[5 rows x 128 columns]\n"
     ]
    },
    {
     "name": "stderr",
     "output_type": "stream",
     "text": [
      "C:\\Users\\nyager\\AppData\\Local\\Temp\\ipykernel_25356\\380121620.py:2: DtypeWarning: Columns (30) have mixed types. Specify dtype option on import or set low_memory=False.\n",
      "  data = pd.read_csv(\"rawdata/data_groupyear.csv\")\n"
     ]
    }
   ],
   "source": [
    "# Loading data\n",
    "data = pd.read_csv(\"rawdata/data_groupyear.csv\")\n",
    "\n",
    "# Display the first few rows of the dataset\n",
    "print(data.head())"
   ]
  },
  {
   "cell_type": "markdown",
   "metadata": {},
   "source": [
    "First analysis: Markov Model Replication"
   ]
  },
  {
   "cell_type": "code",
   "execution_count": 23,
   "metadata": {},
   "outputs": [
    {
     "name": "stdout",
     "output_type": "stream",
     "text": [
      "Transition Matrix:\n",
      " intensity_level             0         1         2\n",
      "intensity_level_lag                              \n",
      "0.0                  0.988162  0.010967  0.000872\n",
      "1.0                  0.285199  0.648014  0.066787\n",
      "2.0                  0.083770  0.214660  0.701571\n",
      "Optimization terminated successfully.\n",
      "         Current function value: 0.104535\n",
      "         Iterations 11\n",
      "                          MNLogit Regression Results                          \n",
      "==============================================================================\n",
      "Dep. Variable:        intensity_level   No. Observations:                14527\n",
      "Model:                        MNLogit   Df Residuals:                    14507\n",
      "Method:                           MLE   Df Model:                           18\n",
      "Date:                Wed, 06 Nov 2024   Pseudo R-squ.:                  0.5433\n",
      "Time:                        09:33:48   Log-Likelihood:                -1518.6\n",
      "converged:                       True   LL-Null:                       -3325.0\n",
      "Covariance Type:            nonrobust   LLR p-value:                     0.000\n",
      "===========================================================================================\n",
      "      intensity_level=1       coef    std err          z      P>|z|      [0.025      0.975]\n",
      "-------------------------------------------------------------------------------------------\n",
      "Intercept                  -3.5794      0.590     -6.069      0.000      -4.735      -2.424\n",
      "intensity_1_interaction     0.8723      0.277      3.150      0.002       0.329       1.415\n",
      "intensity_2_interaction     1.4772      0.685      2.155      0.031       0.134       2.821\n",
      "peaceyrs_lowint            -0.0801      0.006    -14.492      0.000      -0.091      -0.069\n",
      "waryrs                      0.2106      0.018     11.549      0.000       0.175       0.246\n",
      "ln_gdppc_l                 -0.2018      0.060     -3.351      0.001      -0.320      -0.084\n",
      "ln_pop_l                    0.1915      0.038      4.990      0.000       0.116       0.267\n",
      "family_warhist              0.2581      0.055      4.668      0.000       0.150       0.366\n",
      "cincidence_flag_l           1.3711      0.168      8.172      0.000       1.042       1.700\n",
      "status_excl                 0.2989      0.141      2.119      0.034       0.022       0.575\n",
      "-------------------------------------------------------------------------------------------\n",
      "      intensity_level=2       coef    std err          z      P>|z|      [0.025      0.975]\n",
      "-------------------------------------------------------------------------------------------\n",
      "Intercept                  -0.4181      1.046     -0.400      0.689      -2.468       1.632\n",
      "intensity_1_interaction    -0.1598      0.493     -0.324      0.746      -1.126       0.806\n",
      "intensity_2_interaction     3.7188      0.639      5.817      0.000       2.466       4.972\n",
      "peaceyrs_lowint            -0.0996      0.012     -8.173      0.000      -0.123      -0.076\n",
      "waryrs                      0.2524      0.021     12.251      0.000       0.212       0.293\n",
      "ln_gdppc_l                 -0.5502      0.102     -5.391      0.000      -0.750      -0.350\n",
      "ln_pop_l                   -0.0070      0.070     -0.101      0.919      -0.143       0.129\n",
      "family_warhist             -0.4034      0.136     -2.974      0.003      -0.669      -0.138\n",
      "cincidence_flag_l           2.4503      0.388      6.318      0.000       1.690       3.210\n",
      "status_excl                 0.3155      0.234      1.350      0.177      -0.142       0.773\n",
      "===========================================================================================\n"
     ]
    }
   ],
   "source": [
    "# Is the data sorted by group and time? \n",
    "data = data.sort_values(by=['gwgroupid', 'year'])\n",
    "\n",
    "# Lagged variable generation (for analysis)\n",
    "data['intensity_level_lag'] = data.groupby('gwgroupid')['intensity_level'].shift(1)\n",
    "\n",
    "# Generating interaction terms\n",
    "data['intensity_1_interaction'] = data['Target_Gov_l1'] * data['int_level1_lag']\n",
    "data['intensity_2_interaction'] = data['Target_Gov_l1'] * data['int_level2_lag']\n",
    "\n",
    "\n",
    "# Calculate transition matrix (basic example using pandas crosstab)\n",
    "transition_matrix = pd.crosstab(data['intensity_level_lag'], data['intensity_level'], normalize='index')\n",
    "print(\"Transition Matrix:\\n\", transition_matrix)\n",
    "\n",
    "# Multinomial logistic regression (close to logit in Stata)\n",
    "formula = 'intensity_level ~ intensity_1_interaction + intensity_2_interaction + peaceyrs_lowint + waryrs + ln_gdppc_l + ln_pop_l + family_warhist + cincidence_flag_l + status_excl'\n",
    "mlogit_model = smf.mnlogit(formula, data=data)\n",
    "mlogit_results = mlogit_model.fit()\n",
    "\n",
    "# Displaying results\n",
    "print(mlogit_results.summary())\n"
   ]
  }
 ],
 "metadata": {
  "kernelspec": {
   "display_name": "Python 3",
   "language": "python",
   "name": "python3"
  },
  "language_info": {
   "codemirror_mode": {
    "name": "ipython",
    "version": 3
   },
   "file_extension": ".py",
   "mimetype": "text/x-python",
   "name": "python",
   "nbconvert_exporter": "python",
   "pygments_lexer": "ipython3",
   "version": "3.11.9"
  }
 },
 "nbformat": 4,
 "nbformat_minor": 2
}
