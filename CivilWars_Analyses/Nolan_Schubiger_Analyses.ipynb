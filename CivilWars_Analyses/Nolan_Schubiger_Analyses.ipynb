{
 "cells": [
  {
   "cell_type": "markdown",
   "metadata": {},
   "source": [
    "Replication of Civil Wars Analyses for Yager Working Paper:\n",
    "The Psychological Effects of Ethnic Targeting on Civil War"
   ]
  },
  {
   "cell_type": "code",
   "execution_count": 40,
   "metadata": {},
   "outputs": [],
   "source": [
    "# Loading packages\n",
    "import pandas as pd\n",
    "import numpy as np\n",
    "import matplotlib.pyplot as plt\n",
    "import sklearn as sklearn\n",
    "import os \n",
    "import statsmodels.api as sm\n",
    "import statsmodels.formula.api as smf\n"
   ]
  },
  {
   "cell_type": "markdown",
   "metadata": {},
   "source": [
    "Setting working directory: "
   ]
  },
  {
   "cell_type": "code",
   "execution_count": 41,
   "metadata": {},
   "outputs": [
    {
     "name": "stdout",
     "output_type": "stream",
     "text": [
      "Current Working Directory: c:\\Users\\nyager\\Desktop\\YagerMLCode\\MachineLearning_Fall24\\CivilWars_Analyses\n"
     ]
    }
   ],
   "source": [
    "# Set WD\n",
    "working_directory = \"C:\\\\Users\\\\nyager\\\\Desktop\\\\YagerMLCode\\\\MachineLearning_Fall24\\\\CivilWars_Analyses\"\n",
    "os.chdir(working_directory)\n",
    "\n",
    "# Confirm the change\n",
    "print(\"Current Working Directory:\", os.getcwd())"
   ]
  },
  {
   "cell_type": "markdown",
   "metadata": {},
   "source": [
    "Load data: "
   ]
  },
  {
   "cell_type": "code",
   "execution_count": 42,
   "metadata": {},
   "outputs": [
    {
     "name": "stdout",
     "output_type": "stream",
     "text": [
      "   gwgroupid  year  countries_gwid onset_id    countryname  territorial_c  \\\n",
      "0     201000  2009               2      NaN  United States            NaN   \n",
      "1     201000  2010               2      NaN  United States            NaN   \n",
      "2     201000  2011               2      NaN  United States            NaN   \n",
      "3     201000  2012               2      NaN  United States            NaN   \n",
      "4     201000  2013               2      NaN  United States            NaN   \n",
      "\n",
      "   intensity_level  active_dyads  active_dyads_change  ongoing_any  ...  \\\n",
      "0                0             0                  0.0            0  ...   \n",
      "1                0             0                  0.0            0  ...   \n",
      "2                0             0                  0.0            0  ...   \n",
      "3                0             0                  0.0            0  ...   \n",
      "4                0             0                  0.0            0  ...   \n",
      "\n",
      "   l_yrs_excl  l_yrs_disc  pys_low2  pys_low3  wys_low2  wys_low3  wys_high2  \\\n",
      "0         0.0         0.0      3969    250047         0         0          0   \n",
      "1         0.0         0.0      4096    262144         0         0          0   \n",
      "2         0.0         0.0      4225    274625         0         0          0   \n",
      "3         0.0         0.0      4356    287496         0         0          0   \n",
      "4         0.0         0.0      4489    300763         0         0          0   \n",
      "\n",
      "   wys_high3  Target_Gov_l1pr  Target_Gov_l1unpr  \n",
      "0          0              0.0                0.0  \n",
      "1          0              0.0                0.0  \n",
      "2          0              0.0                0.0  \n",
      "3          0              0.0                0.0  \n",
      "4          0              0.0                0.0  \n",
      "\n",
      "[5 rows x 128 columns]\n"
     ]
    },
    {
     "name": "stderr",
     "output_type": "stream",
     "text": [
      "C:\\Users\\nyager\\AppData\\Local\\Temp\\ipykernel_24384\\380121620.py:2: DtypeWarning: Columns (30) have mixed types. Specify dtype option on import or set low_memory=False.\n",
      "  data = pd.read_csv(\"rawdata/data_groupyear.csv\")\n"
     ]
    }
   ],
   "source": [
    "# Loading data\n",
    "data = pd.read_csv(\"rawdata/data_groupyear.csv\")\n",
    "\n",
    "# Display the first few rows of the dataset\n",
    "print(data.head())"
   ]
  },
  {
   "cell_type": "markdown",
   "metadata": {},
   "source": [
    "First analysis: Markov Model Replication"
   ]
  },
  {
   "cell_type": "code",
   "execution_count": 43,
   "metadata": {},
   "outputs": [
    {
     "name": "stdout",
     "output_type": "stream",
     "text": [
      "Transition Matrix:\n",
      " intensity_level             0         1         2\n",
      "intensity_level_lag                              \n",
      "0.0                  0.988162  0.010967  0.000872\n",
      "1.0                  0.285199  0.648014  0.066787\n",
      "2.0                  0.083770  0.214660  0.701571\n",
      "Optimization terminated successfully.\n",
      "         Current function value: 0.104535\n",
      "         Iterations 11\n",
      "                          MNLogit Regression Results                          \n",
      "==============================================================================\n",
      "Dep. Variable:        intensity_level   No. Observations:                14527\n",
      "Model:                        MNLogit   Df Residuals:                    14507\n",
      "Method:                           MLE   Df Model:                           18\n",
      "Date:                Wed, 20 Nov 2024   Pseudo R-squ.:                  0.5433\n",
      "Time:                        12:23:52   Log-Likelihood:                -1518.6\n",
      "converged:                       True   LL-Null:                       -3325.0\n",
      "Covariance Type:            nonrobust   LLR p-value:                     0.000\n",
      "===========================================================================================\n",
      "      intensity_level=1       coef    std err          z      P>|z|      [0.025      0.975]\n",
      "-------------------------------------------------------------------------------------------\n",
      "Intercept                  -3.5794      0.590     -6.069      0.000      -4.735      -2.424\n",
      "intensity_1_interaction     0.8723      0.277      3.150      0.002       0.329       1.415\n",
      "intensity_2_interaction     1.4772      0.685      2.155      0.031       0.134       2.821\n",
      "peaceyrs_lowint            -0.0801      0.006    -14.492      0.000      -0.091      -0.069\n",
      "waryrs                      0.2106      0.018     11.549      0.000       0.175       0.246\n",
      "ln_gdppc_l                 -0.2018      0.060     -3.351      0.001      -0.320      -0.084\n",
      "ln_pop_l                    0.1915      0.038      4.990      0.000       0.116       0.267\n",
      "family_warhist              0.2581      0.055      4.668      0.000       0.150       0.366\n",
      "cincidence_flag_l           1.3711      0.168      8.172      0.000       1.042       1.700\n",
      "status_excl                 0.2989      0.141      2.119      0.034       0.022       0.575\n",
      "-------------------------------------------------------------------------------------------\n",
      "      intensity_level=2       coef    std err          z      P>|z|      [0.025      0.975]\n",
      "-------------------------------------------------------------------------------------------\n",
      "Intercept                  -0.4181      1.046     -0.400      0.689      -2.468       1.632\n",
      "intensity_1_interaction    -0.1598      0.493     -0.324      0.746      -1.126       0.806\n",
      "intensity_2_interaction     3.7188      0.639      5.817      0.000       2.466       4.972\n",
      "peaceyrs_lowint            -0.0996      0.012     -8.173      0.000      -0.123      -0.076\n",
      "waryrs                      0.2524      0.021     12.251      0.000       0.212       0.293\n",
      "ln_gdppc_l                 -0.5502      0.102     -5.391      0.000      -0.750      -0.350\n",
      "ln_pop_l                   -0.0070      0.070     -0.101      0.919      -0.143       0.129\n",
      "family_warhist             -0.4034      0.136     -2.974      0.003      -0.669      -0.138\n",
      "cincidence_flag_l           2.4503      0.388      6.318      0.000       1.690       3.210\n",
      "status_excl                 0.3155      0.234      1.350      0.177      -0.142       0.773\n",
      "===========================================================================================\n"
     ]
    }
   ],
   "source": [
    "# Is the data sorted by group and time? \n",
    "data = data.sort_values(by=['gwgroupid', 'year'])\n",
    "\n",
    "# Lagged variable generation (for analysis)\n",
    "data['intensity_level_lag'] = data.groupby('gwgroupid')['intensity_level'].shift(1)\n",
    "\n",
    "# Generating interaction terms\n",
    "data['intensity_1_interaction'] = data['Target_Gov_l1'] * data['int_level1_lag']\n",
    "data['intensity_2_interaction'] = data['Target_Gov_l1'] * data['int_level2_lag']\n",
    "\n",
    "\n",
    "# Calculate transition matrix (basic example using pandas crosstab)\n",
    "transition_matrix = pd.crosstab(data['intensity_level_lag'], data['intensity_level'], normalize='index')\n",
    "print(\"Transition Matrix:\\n\", transition_matrix)\n",
    "\n",
    "# Multinomial logistic regression (close to logit in Stata)\n",
    "formula = 'intensity_level ~ intensity_1_interaction + intensity_2_interaction + peaceyrs_lowint + waryrs + ln_gdppc_l + ln_pop_l + family_warhist + cincidence_flag_l + status_excl'\n",
    "mlogit_model = smf.mnlogit(formula, data=data)\n",
    "mlogit_results = mlogit_model.fit()\n",
    "\n",
    "# Displaying results\n",
    "print(mlogit_results.summary())\n"
   ]
  },
  {
   "cell_type": "markdown",
   "metadata": {},
   "source": [
    "# Merging Data"
   ]
  },
  {
   "cell_type": "code",
   "execution_count": 44,
   "metadata": {},
   "outputs": [
    {
     "name": "stdout",
     "output_type": "stream",
     "text": [
      "Index(['countryname', 'risktaking'], dtype='object')\n"
     ]
    },
    {
     "name": "stderr",
     "output_type": "stream",
     "text": [
      "C:\\Users\\nyager\\AppData\\Local\\Temp\\ipykernel_24384\\1778635771.py:2: DtypeWarning: Columns (30) have mixed types. Specify dtype option on import or set low_memory=False.\n",
      "  data_groupyear = pd.read_csv(\"rawdata/data_groupyear.csv\")\n"
     ]
    }
   ],
   "source": [
    "# Load the main civwars dataset (data_groupyear)\n",
    "data_groupyear = pd.read_csv(\"rawdata/data_groupyear.csv\")\n",
    "\n",
    "# Load Global Preferences Survey\n",
    "gps_data = pd.read_stata(\"rawdata/GPS_Export.dta\")\n",
    "\n",
    "print(gps_data.columns)\n"
   ]
  },
  {
   "cell_type": "markdown",
   "metadata": {},
   "source": [
    "Note it is called \"countryname\" and not \"country\" which can be confusing. \n",
    "\n",
    "Also, I was having issues with the GPS_Export.csv file so I decided to use the .dta file instead. "
   ]
  },
  {
   "cell_type": "code",
   "execution_count": 45,
   "metadata": {},
   "outputs": [
    {
     "name": "stdout",
     "output_type": "stream",
     "text": [
      "   gwgroupid  year  countries_gwid onset_id    countryname  territorial_c  \\\n",
      "0     201000  2009               2      NaN  United States            NaN   \n",
      "1     201000  2010               2      NaN  United States            NaN   \n",
      "2     201000  2011               2      NaN  United States            NaN   \n",
      "3     201000  2012               2      NaN  United States            NaN   \n",
      "4     201000  2013               2      NaN  United States            NaN   \n",
      "\n",
      "   intensity_level  active_dyads  active_dyads_change  ongoing_any  ...  \\\n",
      "0                0             0                  0.0            0  ...   \n",
      "1                0             0                  0.0            0  ...   \n",
      "2                0             0                  0.0            0  ...   \n",
      "3                0             0                  0.0            0  ...   \n",
      "4                0             0                  0.0            0  ...   \n",
      "\n",
      "   l_yrs_disc  pys_low2  pys_low3  wys_low2  wys_low3  wys_high2  wys_high3  \\\n",
      "0         0.0      3969    250047         0         0          0          0   \n",
      "1         0.0      4096    262144         0         0          0          0   \n",
      "2         0.0      4225    274625         0         0          0          0   \n",
      "3         0.0      4356    287496         0         0          0          0   \n",
      "4         0.0      4489    300763         0         0          0          0   \n",
      "\n",
      "   Target_Gov_l1pr  Target_Gov_l1unpr  risktaking  \n",
      "0              0.0                0.0     0.11659  \n",
      "1              0.0                0.0     0.11659  \n",
      "2              0.0                0.0     0.11659  \n",
      "3              0.0                0.0     0.11659  \n",
      "4              0.0                0.0     0.11659  \n",
      "\n",
      "[5 rows x 129 columns]\n",
      "countryname\n",
      "Russia          1007\n",
      "China            898\n",
      "India            500\n",
      "South Africa     300\n",
      "Iran             275\n",
      "                ... \n",
      "Algeria           25\n",
      "Austria           25\n",
      "Rwanda            25\n",
      "Argentina         25\n",
      "Australia         25\n",
      "Name: count, Length: 67, dtype: int64\n"
     ]
    }
   ],
   "source": [
    "# Sort GPS dataset by countryname and clean missing data\n",
    "gps_data = gps_data.sort_values(by=\"countryname\")\n",
    "gps_data = gps_data[gps_data['risktaking'].notna()]  # Drop rows where 'risktaking' is NaN\n",
    "\n",
    "# Ensure the data types match for merging\n",
    "gps_data['countryname'] = gps_data['countryname'].astype(str)\n",
    "data_groupyear['countryname'] = data_groupyear['countryname'].astype(str)\n",
    "\n",
    "# Perform the one-to-many merge\n",
    "merged_data = pd.merge(data_groupyear, gps_data, how=\"left\", on=\"countryname\")\n",
    "\n",
    "# Handle missing data if necessary (drop rows where 'risktaking' is NaN after merging)\n",
    "merged_data = merged_data[merged_data['risktaking'].notna()]\n",
    "\n",
    "# Save the merged dataset to cleandata folder\n",
    "merged_data.to_csv(\"cleandata/merged_data.csv\", index=False)\n",
    "\n",
    "# Inspect the merged dataset\n",
    "print(merged_data.head())\n",
    "\n",
    "# Tabulate occurrences of countryname (similar to 'tab countryname' in Stata)\n",
    "country_counts = merged_data['countryname'].value_counts()\n",
    "print(country_counts)\n"
   ]
  },
  {
   "cell_type": "markdown",
   "metadata": {},
   "source": [
    "Merging done. "
   ]
  },
  {
   "cell_type": "markdown",
   "metadata": {},
   "source": [
    "# Markov Transition Models"
   ]
  },
  {
   "cell_type": "markdown",
   "metadata": {},
   "source": [
    "Step 1: preparation"
   ]
  },
  {
   "cell_type": "code",
   "execution_count": 46,
   "metadata": {},
   "outputs": [],
   "source": [
    "# Sort and prepare the data by group and time\n",
    "data = merged_data.sort_values(by=[\"gwgroupid\", \"year\"]).reset_index(drop=True)\n",
    "\n",
    "# Creating lagged variables\n",
    "data[\"intensity_level_lag\"] = data.groupby(\"gwgroupid\")[\"intensity_level\"].shift(1)\n",
    "\n",
    "# Creating interaction terms\n",
    "interaction_vars = [\"int_level1_lag\", \"int_level2_lag\"]\n",
    "for var in interaction_vars:\n",
    "    data[f\"{var}_interaction\"] = data[\"Target_Gov_l1\"] * data[var]\n",
    "\n",
    "# Dropping rows with missing data for interaction vars. \n",
    "data = data.dropna(subset=[\"intensity_level_lag\"])\n"
   ]
  },
  {
   "cell_type": "markdown",
   "metadata": {},
   "source": [
    "Step 2: transition matrix"
   ]
  },
  {
   "cell_type": "code",
   "execution_count": 47,
   "metadata": {},
   "outputs": [
    {
     "name": "stdout",
     "output_type": "stream",
     "text": [
      "Transition Matrix:\n",
      " intensity_level             0         1         2\n",
      "intensity_level_lag                              \n",
      "0.0                  0.990978  0.008248  0.000773\n",
      "1.0                  0.221477  0.708054  0.070470\n",
      "2.0                  0.121951  0.195122  0.682927\n"
     ]
    }
   ],
   "source": [
    "# Compute the transition matrix\n",
    "transition_matrix = pd.crosstab(data[\"intensity_level_lag\"], data[\"intensity_level\"], normalize=\"index\")\n",
    "print(\"Transition Matrix:\\n\", transition_matrix)"
   ]
  },
  {
   "cell_type": "markdown",
   "metadata": {},
   "source": [
    "Step 3: multinomial logistic regression"
   ]
  },
  {
   "cell_type": "code",
   "execution_count": 48,
   "metadata": {},
   "outputs": [
    {
     "name": "stdout",
     "output_type": "stream",
     "text": [
      "Index(['gwgroupid', 'year', 'countries_gwid', 'onset_id', 'countryname',\n",
      "       'territorial_c', 'intensity_level', 'active_dyads',\n",
      "       'active_dyads_change', 'ongoing_any',\n",
      "       ...\n",
      "       'wys_low2', 'wys_low3', 'wys_high2', 'wys_high3', 'Target_Gov_l1pr',\n",
      "       'Target_Gov_l1unpr', 'risktaking', 'intensity_level_lag',\n",
      "       'int_level1_lag_interaction', 'int_level2_lag_interaction'],\n",
      "      dtype='object', length=132)\n"
     ]
    }
   ],
   "source": [
    "print(data.columns)"
   ]
  },
  {
   "cell_type": "code",
   "execution_count": 49,
   "metadata": {},
   "outputs": [
    {
     "name": "stdout",
     "output_type": "stream",
     "text": [
      "              precision    recall  f1-score   support\n",
      "\n",
      "           0       0.99      0.99      0.99      2352\n",
      "           1       0.65      0.69      0.67        71\n",
      "           2       0.60      0.32      0.41        19\n",
      "\n",
      "    accuracy                           0.98      2442\n",
      "   macro avg       0.75      0.67      0.69      2442\n",
      "weighted avg       0.98      0.98      0.98      2442\n",
      "\n"
     ]
    },
    {
     "name": "stderr",
     "output_type": "stream",
     "text": [
      "C:\\Users\\nyager\\AppData\\Local\\Packages\\PythonSoftwareFoundation.Python.3.11_qbz5n2kfra8p0\\LocalCache\\local-packages\\Python311\\site-packages\\sklearn\\linear_model\\_logistic.py:1247: FutureWarning: 'multi_class' was deprecated in version 1.5 and will be removed in 1.7. From then on, it will always use 'multinomial'. Leave it to its default value to avoid this warning.\n",
      "  warnings.warn(\n"
     ]
    }
   ],
   "source": [
    "from sklearn.model_selection import train_test_split\n",
    "from sklearn.linear_model import LogisticRegression\n",
    "from sklearn.preprocessing import StandardScaler\n",
    "from sklearn.metrics import classification_report\n",
    "\n",
    "# Define predictors and the target variable\n",
    "X = data[\n",
    "    [\"int_level1_lag_interaction\", \"int_level2_lag_interaction\", \"peaceyrs_lowint\", \n",
    "     \"waryrs\", \"ln_gdppc_l\", \"ln_pop_l\", \"family_warhist\", \n",
    "     \"cincidence_flag_l\", \"status_excl\", \"risktaking\"]\n",
    "]\n",
    "y = data[\"intensity_level\"]\n",
    "\n",
    "# Standardize the predictors\n",
    "scaler = StandardScaler()\n",
    "X_scaled = scaler.fit_transform(X)\n",
    "\n",
    "# Split the data into training and testing sets\n",
    "X_train, X_test, y_train, y_test = train_test_split(X_scaled, y, test_size=0.3, random_state=42)\n",
    "\n",
    "# Train a multinomial logistic regression model\n",
    "model = LogisticRegression(multi_class=\"multinomial\", solver=\"lbfgs\", max_iter=500)\n",
    "model.fit(X_train, y_train)\n",
    "\n",
    "# Evaluate the model\n",
    "y_pred = model.predict(X_test)\n",
    "print(classification_report(y_test, y_pred))"
   ]
  }
 ],
 "metadata": {
  "kernelspec": {
   "display_name": "Python 3",
   "language": "python",
   "name": "python3"
  },
  "language_info": {
   "codemirror_mode": {
    "name": "ipython",
    "version": 3
   },
   "file_extension": ".py",
   "mimetype": "text/x-python",
   "name": "python",
   "nbconvert_exporter": "python",
   "pygments_lexer": "ipython3",
   "version": "3.11.9"
  }
 },
 "nbformat": 4,
 "nbformat_minor": 2
}
